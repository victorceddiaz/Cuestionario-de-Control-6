{
  "nbformat": 4,
  "nbformat_minor": 0,
  "metadata": {
    "colab": {
      "name": "Array2dADT1310.ipynb",
      "provenance": [],
      "collapsed_sections": [],
      "authorship_tag": "ABX9TyNCXThtE8qFQey5HLJoEPmi",
      "include_colab_link": true
    },
    "kernelspec": {
      "name": "python3",
      "display_name": "Python 3"
    },
    "language_info": {
      "name": "python"
    }
  },
  "cells": [
    {
      "cell_type": "markdown",
      "metadata": {
        "id": "view-in-github",
        "colab_type": "text"
      },
      "source": [
        "<a href=\"https://colab.research.google.com/github/victorceddiaz/Cuestionario-de-Control-6/blob/main/Array2dADT1310.ipynb\" target=\"_parent\"><img src=\"https://colab.research.google.com/assets/colab-badge.svg\" alt=\"Open In Colab\"/></a>"
      ]
    },
    {
      "cell_type": "markdown",
      "metadata": {
        "id": "P6hO0OOSnTVd"
      },
      "source": [
        "##Cuestionario de Control 6. Actividad en clase 19-0ct-21\n",
        "\n",
        "\n",
        "Alumno: Cedillo Díaz Victor Antonio \n",
        "\n",
        "Grupo: 1360\n",
        "\n",
        "Materia: Estructura de Datos"
      ]
    },
    {
      "cell_type": "code",
      "metadata": {
        "id": "D2b3Wix3nMIN"
      },
      "source": [
        "class Array2DADT :\n",
        "    def __init__(self, ren, col) :\n",
        "        self.__data = [[0 for y in range(col)] for x in range(ren)]\n",
        "    \n",
        "    def clear(self, dato) :\n",
        "        self.__data = [[dato for y in range(self.get_col_size())] for x in range(self.get_row_size())]\n",
        "\n",
        "    def get_row_size(self) :\n",
        "        return len(self.__data)\n",
        "    \n",
        "    def get_col_size(self) :\n",
        "        return len(self.__data[0])\n",
        "    \n",
        "    def set_item(self, ren, col, dato) :\n",
        "        self.__data[ren][col]= dato\n",
        "\n",
        "    def get_item(self, ren, col) :\n",
        "        return self.__data[ren][col]\n",
        "    \n",
        "    def to_string(self) :\n",
        "        cadena = \"\"\n",
        "        for renglon in self.__data :\n",
        "            cadena=cadena + \"|\"\n",
        "            for dato in renglon :\n",
        "                cadena= cadena + str(dato) + \"|\"\n",
        "            cadena=cadena + \"\\n\"\n",
        "        return cadena"
      ],
      "execution_count": 1,
      "outputs": []
    },
    {
      "cell_type": "code",
      "metadata": {
        "colab": {
          "base_uri": "https://localhost:8080/",
          "height": 269
        },
        "id": "W31biivHoXpf",
        "outputId": "09848015-dbbb-452c-96b5-a05628b22481"
      },
      "source": [
        "a2d=Array2DADT(3, 6)\n",
        "print(f'Renglones : {a2d.get_row_size()}')\n",
        "print(f'Columnas : {a2d.get_col_size()}')\n",
        "print(a2d.to_string())\n",
        "a2d.clear(\"M\")\n",
        "print(a2d.to_string())\n",
        "\n",
        "a2d.set_item(2,3,'p')\n",
        "print(a2d.to_string())\n",
        "a2d.get_item(2,3)\n"
      ],
      "execution_count": null,
      "outputs": [
        {
          "output_type": "stream",
          "name": "stdout",
          "text": [
            "Renglones : 3\n",
            "Columnas : 6\n",
            "|0|0|0|0|0|0|\n",
            "|0|0|0|0|0|0|\n",
            "|0|0|0|0|0|0|\n",
            "\n",
            "|M|M|M|M|M|M|\n",
            "|M|M|M|M|M|M|\n",
            "|M|M|M|M|M|M|\n",
            "\n",
            "|M|M|M|M|M|M|\n",
            "|M|M|M|M|M|M|\n",
            "|M|M|M|p|M|M|\n",
            "\n"
          ]
        },
        {
          "output_type": "execute_result",
          "data": {
            "application/vnd.google.colaboratory.intrinsic+json": {
              "type": "string"
            },
            "text/plain": [
              "'p'"
            ]
          },
          "metadata": {},
          "execution_count": 29
        }
      ]
    },
    {
      "cell_type": "code",
      "metadata": {
        "id": "3FOJnKg73xv6"
      },
      "source": [
        "\"\"\"\n",
        "Los datos iniciales como lo son :\n",
        "\n",
        "1. Tamaño de la población (renglones y columnas)\n",
        "2. La población inicial \n",
        "3. El número de generaciones a simular\n",
        "\n",
        "Estaran proporcionadas por un archivo de entrada separado por comas (CSV)\n",
        "\n",
        "5 - renglones\n",
        "5 - columnas\n",
        "0,0,0,0,0\n",
        "0,0,1,0,0\n",
        "0,1,1,1,0   -  poblacion\n",
        "0,0,0,0,0\n",
        "0,0,0,0,0\n",
        "10  -  generaciones\n",
        "\n",
        "\"\"\"\n",
        "\n",
        "class JuegoDeLaVida :\n",
        "    def __init__(self, ruta_archivo) :\n",
        "        self.ren = None\n",
        "        self.cols = None\n",
        "        self.tablero = None   \n",
        "        self.generaciones = None\n",
        "        self.read_game_data(ruta_archivo)\n",
        "\n",
        "    def read_game_data(self, archivo) :\n",
        "        archivo = open(archivo, 'rt')\n",
        "        lineas=archivo.readlines()\n",
        "        for index in range(len(lineas)) :\n",
        "            lineas[index] = lineas[index].strip()\n",
        "        self.rens = int(lineas[0])\n",
        "        self.cols = int(lineas[1])\n",
        "        self.generaciones = int(lineas[-1])\n",
        "        self.tablero = Array2DADT(self.rens, self.cols)\n",
        "        r=0\n",
        "        c=0\n",
        "        for index in range(2, 2 + self.rens, 1) :\n",
        "            c=0\n",
        "            for dato in lineas[index].split(',') :\n",
        "                self.tablero.set_item(r, c, int(dato))\n",
        "                c+=1\n",
        "            r+=1\n",
        "        #print(self.tablero.to_string())\n",
        "\n",
        "    def get_vecinos( self , r , c):\n",
        "        vecinos = []\n",
        "        for ren in range( r-1 , r+2 , 1 ):\n",
        "            for col in range(c-1 , c+2 , 1):\n",
        "                if ren < 0 or ren >= self.tablero.get_row_size() or col < 0 or col >= self.tablero.get_col_size() or (ren==r and col==c):\n",
        "                    pass\n",
        "                else:\n",
        "                    vecinos.append((ren,col))\n",
        "        return vecinos\n",
        "    \n",
        "    def get_vecinos_vivos(self, r, c) :\n",
        "        vecinos = self.get_vecinos(r, c)\n",
        "        vivos = 0 \n",
        "        for par in vecinos :\n",
        "            if self.tablero.get_item(par[0], par[1]) == 1 :\n",
        "                vivos+=1\n",
        "        return vivos\n",
        "\n",
        "    def calcular_siguiente(self) :\n",
        "        nueva_gen = Array2DADT(self.rens, self.cols)\n",
        "        #Aplicar las 4 reglas a cada célula y el resultado ponerlo en nueva generación\n",
        "        for ren in range(self.rens) :\n",
        "            for col in range(self.cols) :\n",
        "                print(f'{ren}, {col} --> {self.get_vecinos_vivos(ren, col)}')\n",
        "\n",
        "        self.tablero = nueva_gen\n"
      ],
      "execution_count": 46,
      "outputs": []
    },
    {
      "cell_type": "code",
      "metadata": {
        "colab": {
          "base_uri": "https://localhost:8080/"
        },
        "id": "-loL2WRd57NR",
        "outputId": "c6c40546-1e7c-4cae-c3f4-104f47622f65"
      },
      "source": [
        "juego= JuegoDeLaVida('entrada.txt')\n",
        "print(juego.get_vecinos_vivos(1, 2))\n",
        "juego.calcular_siguiente()"
      ],
      "execution_count": 48,
      "outputs": [
        {
          "output_type": "stream",
          "name": "stdout",
          "text": [
            "3\n",
            "0, 0 --> 0\n",
            "0, 1 --> 1\n",
            "0, 2 --> 1\n",
            "0, 3 --> 1\n",
            "0, 4 --> 0\n",
            "1, 0 --> 1\n",
            "1, 1 --> 3\n",
            "1, 2 --> 3\n",
            "1, 3 --> 3\n",
            "1, 4 --> 1\n",
            "2, 0 --> 1\n",
            "2, 1 --> 2\n",
            "2, 2 --> 3\n",
            "2, 3 --> 2\n",
            "2, 4 --> 1\n",
            "3, 0 --> 1\n",
            "3, 1 --> 2\n",
            "3, 2 --> 3\n",
            "3, 3 --> 2\n",
            "3, 4 --> 1\n",
            "4, 0 --> 0\n",
            "4, 1 --> 0\n",
            "4, 2 --> 0\n",
            "4, 3 --> 0\n",
            "4, 4 --> 0\n"
          ]
        }
      ]
    }
  ]
}